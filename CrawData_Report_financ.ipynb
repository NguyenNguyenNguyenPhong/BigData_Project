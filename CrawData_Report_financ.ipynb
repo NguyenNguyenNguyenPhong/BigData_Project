{
  "nbformat": 4,
  "nbformat_minor": 0,
  "metadata": {
    "colab": {
      "provenance": []
    },
    "kernelspec": {
      "name": "python3",
      "display_name": "Python 3"
    },
    "language_info": {
      "name": "python"
    }
  },
  "cells": [
    {
      "cell_type": "code",
      "execution_count": 1,
      "metadata": {
        "id": "A1_EtSsRUxj_"
      },
      "outputs": [],
      "source": [
        "import requests\n"
      ]
    },
    {
      "cell_type": "code",
      "source": [
        "x = requests.get('https://s.cafef.vn/bao-cao-tai-chinh/VCB/BSheet/2023/1/0/0/bao-cao-tai-chinh-ngan-hang-thuong-mai-co-phan-ngoai-thuong-viet-nam.chn')\n",
        "print(x.status_code)"
      ],
      "metadata": {
        "colab": {
          "base_uri": "https://localhost:8080/"
        },
        "id": "ZDJgY4YaU6UW",
        "outputId": "d3fc31da-0890-41c3-cbe4-f5db3596a8e5"
      },
      "execution_count": 2,
      "outputs": [
        {
          "output_type": "stream",
          "name": "stdout",
          "text": [
            "200\n"
          ]
        }
      ]
    },
    {
      "cell_type": "code",
      "source": [
        "pip install beautifulsoup4"
      ],
      "metadata": {
        "colab": {
          "base_uri": "https://localhost:8080/"
        },
        "id": "3Pv6ZGUuU-y5",
        "outputId": "439fa036-6ad7-4392-9549-4092a3ef1fe1"
      },
      "execution_count": 11,
      "outputs": [
        {
          "output_type": "stream",
          "name": "stdout",
          "text": [
            "Looking in indexes: https://pypi.org/simple, https://us-python.pkg.dev/colab-wheels/public/simple/\n",
            "Requirement already satisfied: beautifulsoup4 in /usr/local/lib/python3.10/dist-packages (4.11.2)\n",
            "Requirement already satisfied: soupsieve>1.2 in /usr/local/lib/python3.10/dist-packages (from beautifulsoup4) (2.4.1)\n"
          ]
        }
      ]
    },
    {
      "cell_type": "code",
      "source": [
        "from bs4 import BeautifulSoup"
      ],
      "metadata": {
        "id": "FGt2116XVA1k"
      },
      "execution_count": 12,
      "outputs": []
    },
    {
      "cell_type": "code",
      "source": [
        "htmldiv = BeautifulSoup(x.content)"
      ],
      "metadata": {
        "id": "KsTHqELeVXcr"
      },
      "execution_count": 13,
      "outputs": []
    },
    {
      "cell_type": "code",
      "source": [
        "tableData = htmldiv.find(\"table\", {\"id\": \"tableContent\"})"
      ],
      "metadata": {
        "id": "02rW8QD4Vq9f"
      },
      "execution_count": 15,
      "outputs": []
    },
    {
      "cell_type": "code",
      "source": [
        "cellHeaders = htmldiv.find(\"table\", {\"id\": \"tblGridData\"}).find(\"tr\").find_all(\"td\")[1:5]"
      ],
      "metadata": {
        "id": "hu5lIrJ5dBun"
      },
      "execution_count": 49,
      "outputs": []
    },
    {
      "cell_type": "code",
      "source": [
        "jsonHeader = []"
      ],
      "metadata": {
        "id": "dCfX00oIdVkF"
      },
      "execution_count": 50,
      "outputs": []
    },
    {
      "cell_type": "code",
      "source": [
        "for cellHeader in cellHeaders:\n",
        "  jsonHeader.append(cellHeader.text.strip())"
      ],
      "metadata": {
        "id": "I3KkKIVUdcSp"
      },
      "execution_count": 51,
      "outputs": []
    },
    {
      "cell_type": "code",
      "source": [
        "jsonHeader"
      ],
      "metadata": {
        "colab": {
          "base_uri": "https://localhost:8080/"
        },
        "id": "clsodTQ4dmGQ",
        "outputId": "a751935b-4d9f-4c16-b1a8-036b6656edb7"
      },
      "execution_count": 52,
      "outputs": [
        {
          "output_type": "execute_result",
          "data": {
            "text/plain": [
              "['Quý 2-2022', 'Quý 3-2022', 'Quý 4-2022', 'Quý 1-2023']"
            ]
          },
          "metadata": {},
          "execution_count": 52
        }
      ]
    },
    {
      "cell_type": "code",
      "source": [
        "linesTable = tableData.find_all(\"tr\")"
      ],
      "metadata": {
        "id": "sopA3z8_Ydy2"
      },
      "execution_count": 19,
      "outputs": []
    },
    {
      "cell_type": "code",
      "source": [
        "csvData = \"\""
      ],
      "metadata": {
        "id": "8gjNitZgYzzt"
      },
      "execution_count": 31,
      "outputs": []
    },
    {
      "cell_type": "code",
      "source": [
        "for lineTable in linesTable:\n",
        "  cellTables = lineTable.find_all(\"td\", limit=5)\n",
        "  for cellTable in cellTables:\n",
        "    csvData += \"\\\"\" + cellTable.text.strip() + \"\\\",\"\n",
        "  csvData += \"\\n\""
      ],
      "metadata": {
        "id": "OP70F6JLWwk7"
      },
      "execution_count": 32,
      "outputs": []
    },
    {
      "cell_type": "code",
      "source": [
        "csvData"
      ],
      "metadata": {
        "colab": {
          "base_uri": "https://localhost:8080/",
          "height": 174
        },
        "id": "Si2MrVDoYBw3",
        "outputId": "d1245476-fbd4-42ba-a786-5e411550a2c4"
      },
      "execution_count": 33,
      "outputs": [
        {
          "output_type": "execute_result",
          "data": {
            "text/plain": [
              "'\"I. TÀI SẢN\",\"\",\"\",\"\",\"\",\\n\"\",\"\",\"\",\"\",\"\",\\n\\n\"1. Tiền mặt và các khoản tương đương tại quỹ\",\"15,097,807,000,000\",\"16,293,080,000,000\",\"18,348,519,000,000\",\"15,537,950,000,000\",\\n\"\",\"\",\"\",\"\",\"\",\\n\\n\"2. Tiền gửi tại NHNN\",\"28,813,961,000,000\",\"16,293,080,000,000\",\"92,557,809,000,000\",\"139,256,635,000,000\",\\n\"\",\"\",\"\",\"\",\"\",\\n\\n\"Tiền gửi thanh toán tại các TCTD khác\",\"\",\"\",\"\",\"\",\\n\"\",\"\",\"\",\"\",\"\",\\n\\n\"3. Tiền, vàng gửi tại các TCTD khác và cho vay các TCTD khác\",\"255,548,453,000,000\",\"302,927,159,000,000\",\"313,591,813,000,000\",\"334,747,844,000,000\",\\n\"\",\"\",\"\",\"\",\"\",\\n\\n\"Tiền, vàng gửi tại TCTD khác\",\"206,466,934,000,000\",\"254,958,471,000,000\",\"283,682,088,000,000\",\"324,773,255,000,000\",\\n\"\",\"\",\"\",\"\",\"\",\\n\\n\"Cho vay các TCTD khác\",\"50,081,519,000,000\",\"48,968,688,000,000\",\"40,749,725,000,000\",\"15,695,589,000,000\",\\n\"\",\"\",\"\",\"\",\"\",\\n\\n\"Dự phòng rủi ro cho vay các TCTD khác\",\"-1,000,000,000,000\",\"-1,000,000,000,000\",\"-10,840,000,000,000\",\"-5,721,000,000,000\",\\n\"\",\"\",\"\",\"\",\"\",\\n\\n\"4. Cho vay khách hàng\",\"1,066,990,245,000,000\",\"1,093,971,420,000,000\",\"1,120,286,831,000,000\",\"1,142,187,065,000,000\",\\n\"\",\"\",\"\",\"\",\"\",\\n\\n\"Cho vay khách hàng\",\"1,100,852,163,000,000\",\"1,130,144,001,000,000\",\"1,145,066,250,000,000\",\"1,174,080,964,000,000\",\\n\"\",\"\",\"\",\"\",\"\",\\n\\n\"- Cơ cấu nợ theo nhóm\",\"\",\"\",\"\",\"\",\\n\"\",\"\",\"\",\"\",\"\",\\n\\n\"+ Nợ đủ tiêu chuẩn\",\"\",\"\",\"\",\"\",\\n\"\",\"\",\"\",\"\",\"\",\\n\\n\"+ Nợ cần chú ý\",\"\",\"\",\"\",\"\",\\n\"\",\"\",\"\",\"\",\"\",\\n\\n\"+ Nợ dưới tiêu chuẩn\",\"\",\"\",\"\",\"\",\\n\"\",\"\",\"\",\"\",\"\",\\n\\n\"+ Nợ nghi ngờ\",\"\",\"\",\"\",\"\",\\n\"\",\"\",\"\",\"\",\"\",\\n\\n\"+ Nợ có khả năng mất vốn\",\"\",\"\",\"\",\"\",\\n\"\",\"\",\"\",\"\",\"\",\\n\\n\"- Cơ cấu nợ theo kỳ hạn\",\"\",\"\",\"\",\"\",\\n\"\",\"\",\"\",\"\",\"\",\\n\\n\"+ Ngắn hạn\",\"\",\"\",\"\",\"\",\\n\"\",\"\",\"\",\"\",\"\",\\n\\n\"+ Trung hạn\",\"\",\"\",\"\",\"\",\\n\"\",\"\",\"\",\"\",\"\",\\n\\n\"+ Dài hạn\",\"\",\"\",\"\",\"\",\\n\"\",\"\",\"\",\"\",\"\",\\n\\n\"Dự phòng rủi ro cho vay khách hàng\",\"-33,861,918,000,000\",\"-36,172,581,000,000\",\"-24,779,419,000,000\",\"-31,893,899,000,000\",\\n\"\",\"\",\"\",\"\",\"\",\\n\\n\"5. Chứng khoán kinh doanh\",\"3,150,052,000,000\",\"1,347,762,000,000\",\"1,499,687,000,000\",\"1,595,430,000,000\",\\n\"\",\"\",\"\",\"\",\"\",\\n\\n\"5.1. Chứng khoán kinh doanh\",\"3,187,225,000,000\",\"1,407,066,000,000\",\"1,543,575,000,000\",\"1,618,113,000,000\",\\n\"\",\"\",\"\",\"\",\"\",\\n\\n\"5.4. Dự phòng giảm giá chứng khoán\",\"-37,173,000,000\",\"-59,304,000,000\",\"-43,888,000,000\",\"-22,683,000,000\",\\n\"\",\"\",\"\",\"\",\"\",\\n\\n\"6. Chứng khoán đầu tư\",\"191,407,933,000,000\",\"177,219,709,000,000\",\"196,171,212,000,000\",\"174,526,186,000,000\",\\n\"\",\"\",\"\",\"\",\"\",\\n\\n\"6.1. Chứng khoán đầu tư sẵn sàng để bán\",\"101,203,452,000,000\",\"87,411,490,000,000\",\"100,739,669,000,000\",\"77,663,390,000,000\",\\n\"\",\"\",\"\",\"\",\"\",\\n\\n\"6.2. Chứng khoán đầu tư giữ đến ngày đáo hạn\",\"90,293,045,000,000\",\"89,896,772,000,000\",\"95,513,376,000,000\",\"96,941,064,000,000\",\\n\"\",\"\",\"\",\"\",\"\",\\n\\n\"6.3 Dự phòng giảm giá chứng khoán\",\"-88,564,000,000\",\"-88,553,000,000\",\"-81,833,000,000\",\"-78,268,000,000\",\\n\"\",\"\",\"\",\"\",\"\",\\n\\n\"7. Các công cụ tài chính phái sinh và các tài sản tài chính khác\",\"\",\"\",\"156,515,000,000\",\"224,625,000,000\",\\n\"\",\"\",\"\",\"\",\"\",\\n\\n\"8. Góp vốn, đầu tư dài hạn\",\"2,380,804,000,000\",\"2,217,065,000,000\",\"2,193,516,000,000\",\"2,221,085,000,000\",\\n\"\",\"\",\"\",\"\",\"\",\\n\\n\"8.1. Đầu tư vào công ty liên kết\",\"8,121,000,000\",\"9,674,000,000\",\"11,313,000,000\",\"12,664,000,000\",\\n\"\",\"\",\"\",\"\",\"\",\\n\\n\"8.2. Đầu tư dài hạn khác\",\"1,659,597,000,000\",\"1,529,145,000,000\",\"1,529,145,000,000\",\"1,529,145,000,000\",\\n\"\",\"\",\"\",\"\",\"\",\\n\\n\"8.3. Dự phòng giảm giá đầu tư dài hạn\",\"-75,000,000,000\",\"-75,000,000,000\",\"-117,999,000,000\",\"-117,999,000,000\",\\n\"\",\"\",\"\",\"\",\"\",\\n\\n\"8.4. Góp vốn liên doanh\",\"788,086,000,000\",\"753,246,000,000\",\"771,057,000,000\",\"797,275,000,000\",\\n\"\",\"\",\"\",\"\",\"\",\\n\\n\"9. Tài sản cố định\",\"8,103,519,000,000\",\"7,820,512,000,000\",\"7,985,401,000,000\",\"7,732,058,000,000\",\\n\"\",\"\",\"\",\"\",\"\",\\n\\n\"9.1. Tài sản cố định hữu hình\",\"5,249,947,000,000\",\"5,060,100,000,000\",\"5,170,083,000,000\",\"5,015,683,000,000\",\\n\"\",\"\",\"\",\"\",\"\",\\n\\n\"- Nguyên giá\",\"13,797,299,000,000\",\"13,806,057,000,000\",\"13,950,173,000,000\",\"14,021,442,000,000\",\\n\"\",\"\",\"\",\"\",\"\",\\n\\n\"- Giá trị hao mòn luỹ kế\",\"-8,547,352,000,000\",\"-8,745,957,000,000\",\"-8,780,090,000,000\",\"-9,005,759,000,000\",\\n\"\",\"\",\"\",\"\",\"\",\\n\\n\"9.2. Tài sản cố định thuê tài chính\",\"\",\"\",\"\",\"\",\\n\"\",\"\",\"\",\"\",\"\",\\n\\n\"- Nguyên giá\",\"\",\"\",\"\",\"\",\\n\"\",\"\",\"\",\"\",\"\",\\n\\n\"- Giá trị hao mòn luỹ kế\",\"\",\"\",\"\",\"\",\\n\"\",\"\",\"\",\"\",\"\",\\n\\n\"9.3. Tài sản cố định vô hình\",\"2,853,572,000,000\",\"2,760,412,000,000\",\"2,815,318,000,000\",\"2,716,375,000,000\",\\n\"\",\"\",\"\",\"\",\"\",\\n\\n\"- Nguyên giá\",\"4,617,993,000,000\",\"4,624,053,000,000\",\"4,789,089,000,000\",\"4,791,697,000,000\",\\n\"\",\"\",\"\",\"\",\"\",\\n\\n\"- Giá trị hao mòn luỹ kế\",\"-1,764,421,000,000\",\"-1,863,641,000,000\",\"-1,973,771,000,000\",\"-2,075,322,000,000\",\\n\"\",\"\",\"\",\"\",\"\",\\n\\n\"9.4. XDCB dở dang và mua sắm TSCĐ\",\"\",\"\",\"\",\"\",\\n\"\",\"\",\"\",\"\",\"\",\\n\\n\"10. Bất động sản đầu tư\",\"\",\"\",\"\",\"\",\\n\"\",\"\",\"\",\"\",\"\",\\n\\n\"- Nguyên giá\",\"\",\"\",\"\",\"\",\\n\"\",\"\",\"\",\"\",\"\",\\n\\n\"- Giá trị hao mòn luỹ kế\",\"\",\"\",\"\",\"\",\\n\"\",\"\",\"\",\"\",\"\",\\n\\n\"- Các khoản phải thu\",\"18,467,522,000,000\",\"24,545,840,000,000\",\"24,932,725,000,000\",\"15,382,146,000,000\",\\n\"\",\"\",\"\",\"\",\"\",\\n\\n\"- Các khoản lãi, phí phải thu\",\"7,156,290,000,000\",\"8,044,556,000,000\",\"9,209,121,000,000\",\"10,053,102,000,000\",\\n\"\",\"\",\"\",\"\",\"\",\\n\\n\"- Tài sản thuế TNDN hoãn lại\",\"7,927,000,000\",\"5,782,000,000\",\"927,450,000,000\",\"953,984,000,000\",\\n\"\",\"\",\"\",\"\",\"\",\\n\\n\"- Tài sản có khác\",\"5,272,656,000,000\",\"3,898,300,000,000\",\"26,331,539,000,000\",\"2,025,613,000,000\",\\n\"\",\"\",\"\",\"\",\"\",\\n\\n\"+ Trong đó lợi thế thương mại\",\"\",\"\",\"\",\"\",\\n\"\",\"\",\"\",\"\",\"\",\\n\\n\"- Các khoản dự phòng rủi ro cho các tài sản Có nội bảng khác\",\"-5,442,000,000\",\"-5,397,000,000\",\"-3,929,000,000\",\"-12,433,000,000\",\\n\"\",\"\",\"\",\"\",\"\",\\n\\n\"11. Tài sản Có khác\",\"30,898,953,000,000\",\"36,489,081,000,000\",\"61,396,906,000,000\",\"28,402,412,000,000\",\\n\"\",\"\",\"\",\"\",\"\",\\n\\n\"12. Hoạt động mua nợ\",\"\",\"\",\"\",\"\",\\n\"\",\"\",\"\",\"\",\"\",\\n\\n\"- Mua nợ\",\"\",\"\",\"\",\"\",\\n\"\",\"\",\"\",\"\",\"\",\\n\\n\"- Dự phòng rủi ro hoạt động mua nợ\",\"\",\"\",\"\",\"\",\\n\"\",\"\",\"\",\"\",\"\",\\n\\n\"Tổng tài sản\",\"1,602,391,727,000,000\",\"1,649,664,327,000,000\",\"1,814,188,209,000,000\",\"1,846,431,290,000,000\",\\n\"\",\"\",\"\",\"\",\"\",\\n\\n\"II. NGUỒN VỐN\",\"\",\"\",\"\",\"\",\\n\"\",\"\",\"\",\"\",\"\",\\n\\n\"1. Các khoản nợ Chính phủ và NHNN\",\"61,020,549,000,000\",\"93,953,298,000,000\",\"67,314,816,000,000\",\"62,167,768,000,000\",\\n\"\",\"\",\"\",\"\",\"\",\\n\\n\"1.1. Tiền gửi của KBNN\",\"\",\"93,953,298,000,000\",\"\",\"62,167,768,000,000\",\\n\"\",\"\",\"\",\"\",\"\",\\n\\n\"1.2. Vay NHNN\",\"\",\"\",\"\",\"\",\\n\"\",\"\",\"\",\"\",\"\",\\n\\n\"2. Tiền gửi và vay các TCTD khác\",\"171,676,891,000,000\",\"179,758,633,000,000\",\"232,510,850,000,000\",\"255,334,468,000,000\",\\n\"\",\"\",\"\",\"\",\"\",\\n\\n\"2.1. Tiền gửi của các TCTD khác\",\"159,084,451,000,000\",\"173,006,463,000,000\",\"222,040,585,000,000\",\"237,183,063,000,000\",\\n\"\",\"\",\"\",\"\",\"\",\\n\\n\"2.2. Vay các TCTD khác\",\"12,592,440,000,000\",\"\",\"10,470,265,000,000\",\"18,151,405,000,000\",\\n\"\",\"\",\"\",\"\",\"\",\\n\\n\"3. Tiền gửi của khách hàng\",\"1,195,391,576,000,000\",\"1,197,150,901,000,000\",\"1,243,468,472,000,000\",\"1,281,487,916,000,000\",\\n\"\",\"\",\"\",\"\",\"\",\\n\\n\"4. Các công cụ tài chính phái sinh và nợ tài chính khác\",\"19,457,000,000\",\"120,079,000,000\",\"\",\"\",\\n\"\",\"\",\"\",\"\",\"\",\\n\\n\"5. Vốn tài trợ, ủy thác đầu tư, cho vay TCTD chịu rủi ro\",\"5,485,000,000\",\"4,385,000,000\",\"3,298,000,000\",\"2,186,000,000\",\\n\"\",\"\",\"\",\"\",\"\",\\n\\n\"6. Phát hành giấy tờ có giá\",\"14,367,033,000,000\",\"14,698,727,000,000\",\"25,337,894,000,000\",\"27,337,890,000,000\",\\n\"\",\"\",\"\",\"\",\"\",\\n\\n\"Thuế thu nhập doanh nghiệp\",\"\",\"\",\"\",\"\",\\n\"\",\"\",\"\",\"\",\"\",\\n\\n\"- Các khoản lãi, phí phải trả\",\"10,960,439,000,000\",\"12,813,118,000,000\",\"12,485,332,000,000\",\"15,749,162,000,000\",\\n\"\",\"\",\"\",\"\",\"\",\\n\\n\"- Các khoản phải trả và công nợ khác\",\"25,960,600,000,000\",\"22,775,636,000,000\",\"95,079,105,000,000\",\"59,693,542,000,000\",\\n\"\",\"\",\"\",\"\",\"\",\\n\\n\"- Dự phòng rủi ro khác\",\"\",\"\",\"\",\"\",\\n\"\",\"\",\"\",\"\",\"\",\\n\\n\"- Thuế TNDN phải trả\",\"\",\"\",\"\",\"\",\\n\"\",\"\",\"\",\"\",\"\",\\n\\n\"- Thuế TNDN hoãn lại phải trả\",\"\",\"\",\"\",\"\",\\n\"\",\"\",\"\",\"\",\"\",\\n\\n\"7. Các khoản nợ khác\",\"36,921,039,000,000\",\"35,588,754,000,000\",\"107,564,437,000,000\",\"75,442,704,000,000\",\\n\"\",\"\",\"\",\"\",\"\",\\n\\n\"Tổng nợ phải trả\",\"1,479,402,030,000,000\",\"1,521,274,777,000,000\",\"1,676,199,767,000,000\",\"1,701,772,932,000,000\",\\n\"\",\"\",\"\",\"\",\"\",\\n\\n\"8. Vốn và các quỹ\",\"122,989,697,000,000\",\"128,389,550,000,000\",\"137,988,442,000,000\",\"144,658,358,000,000\",\\n\"\",\"\",\"\",\"\",\"\",\\n\\n\"8.1. Vốn của TCTD\",\"52,665,213,000,000\",\"53,130,392,000,000\",\"53,130,392,000,000\",\"53,130,392,000,000\",\\n\"\",\"\",\"\",\"\",\"\",\\n\\n\"- Vốn điều lệ\",\"47,325,166,000,000\",\"47,325,166,000,000\",\"47,325,166,000,000\",\"47,325,166,000,000\",\\n\"\",\"\",\"\",\"\",\"\",\\n\\n\"- Vốn đầu tư XDCB\",\"\",\"\",\"4,995,389,000,000\",\"\",\\n\"\",\"\",\"\",\"\",\"\",\\n\\n\"- Thặng dư vốn cổ phần\",\"4,995,389,000,000\",\"4,995,389,000,000\",\"\",\"4,995,389,000,000\",\\n\"\",\"\",\"\",\"\",\"\",\\n\\n\"- Cổ phiếu quỹ (*)\",\"\",\"\",\"\",\"\",\\n\"\",\"\",\"\",\"\",\"\",\\n\\n\"- Cổ phiếu ưu đãi\",\"\",\"\",\"\",\"\",\\n\"\",\"\",\"\",\"\",\"\",\\n\\n\"- Vốn khác\",\"344,658,000,000\",\"809,837,000,000\",\"809,837,000,000\",\"809,837,000,000\",\\n\"\",\"\",\"\",\"\",\"\",\\n\\n\"8.2. Quỹ của TCTD\",\"18,171,942,000,000\",\"18,122,983,000,000\",\"18,133,039,000,000\",\"22,556,829,000,000\",\\n\"\",\"\",\"\",\"\",\"\",\\n\\n\"- Các quỹ dự trữ\",\"\",\"\",\"\",\"\",\\n\"\",\"\",\"\",\"\",\"\",\\n\\n\"8.3. Lợi nhuận chưa phân phối/Lỗ lũy kế\",\"52,056,550,000,000\",\"57,774,989,000,000\",\"67,499,703,000,000\",\"69,719,946,000,000\",\\n\"\",\"\",\"\",\"\",\"\",\\n\\n\"8.4. Lợi nhuận năm nay\",\"-1,782,000,000\",\"-741,021,000,000\",\"-863,071,000,000\",\"8,986,435,000,000\",\\n\"\",\"\",\"\",\"\",\"\",\\n\\n\"8.5. Lợi nhuận năm trước\",\"\",\"\",\"\",\"60,733,511,000,000\",\\n\"\",\"\",\"\",\"\",\"\",\\n\\n\"8.7. Chênh lệch đánh giá lại tài sản\",\"\",\"\",\"\",\"\",\\n\"\",\"\",\"\",\"\",\"\",\\n\\n\"8.6. Chênh lệch tỷ giá hối đoái\",\"-1,782,000,000\",\"-741,021,000,000\",\"-863,071,000,000\",\"-842,553,000,000\",\\n\"\",\"\",\"\",\"\",\"\",\\n\\n\"9. Lợi ích của cổ đông thiểu số\",\"97,774,000,000\",\"102,207,000,000\",\"88,379,000,000\",\"93,744,000,000\",\\n\"\",\"\",\"\",\"\",\"\",\\n\\n\"Tổng cộng nguồn vốn\",\"1,602,391,727,000,000\",\"1,649,664,327,000,000\",\"1,814,188,209,000,000\",\"1,846,431,290,000,000\",\\n\"\",\"\",\"\",\"\",\"\",\\n\\n\"Các khoản mục ghi nhớ\",\"\",\"\",\"\",\"\",\\n\"\",\"\",\"\",\"\",\"\",\\n\\n\"1. Thư tín dụng trả ngay\",\"\",\"\",\"\",\"\",\\n\"\",\"\",\"\",\"\",\"\",\\n\\n\"2. Thư tín dụng trả chậm\",\"\",\"\",\"\",\"\",\\n\"\",\"\",\"\",\"\",\"\",\\n\\n\"3. Bảo lãnh thanh toán\",\"\",\"\",\"\",\"\",\\n\"\",\"\",\"\",\"\",\"\",\\n\\n\"4. Bảo lãnh vay vốn\",\"\",\"\",\"\",\"\",\\n\"\",\"\",\"\",\"\",\"\",\\n\\n\"5. Bảo lãnh khác\",\"\",\"\",\"\",\"\",\\n\"\",\"\",\"\",\"\",\"\",\\n\\n\"6. Cam kết cho vay chưa giải ngân\",\"\",\"\",\"\",\"\",\\n\"\",\"\",\"\",\"\",\"\",\\n\\n\"7. Các cam kết khác\",\"\",\"\",\"\",\"\",\\n\"\",\"\",\"\",\"\",\"\",\\n\\n'"
            ],
            "application/vnd.google.colaboratory.intrinsic+json": {
              "type": "string"
            }
          },
          "metadata": {},
          "execution_count": 33
        }
      ]
    },
    {
      "cell_type": "code",
      "source": [
        "f = open(\"data.csv\", \"w\")\n",
        "f.write(csvData)\n",
        "f.close()"
      ],
      "metadata": {
        "id": "pCCqL37LZYsJ"
      },
      "execution_count": 34,
      "outputs": []
    },
    {
      "cell_type": "code",
      "source": [
        "jsonData = []"
      ],
      "metadata": {
        "id": "EtPnIY6WbR6N"
      },
      "execution_count": 36,
      "outputs": []
    },
    {
      "cell_type": "code",
      "source": [
        "for lineTable in linesTable:\n",
        "  cellTables = lineTable.find_all(\"td\", limit=5)\n",
        "  jsonData_line = []\n",
        "  for cellTable in cellTables:\n",
        "    jsonData_line.append(cellTable.text.strip())\n",
        "  jsonData.append(jsonData_line)"
      ],
      "metadata": {
        "id": "nFCNclhgZrlv"
      },
      "execution_count": 37,
      "outputs": []
    },
    {
      "cell_type": "code",
      "source": [
        "jsonData.insert(0, [\"\", *jsonHeader])"
      ],
      "metadata": {
        "id": "oyvihJLteEoL"
      },
      "execution_count": 53,
      "outputs": []
    },
    {
      "cell_type": "code",
      "source": [
        "jsonData"
      ],
      "metadata": {
        "id": "TCRqdGZybicw"
      },
      "execution_count": null,
      "outputs": []
    },
    {
      "cell_type": "code",
      "source": [
        "import json"
      ],
      "metadata": {
        "id": "LG0hArv0b1FC"
      },
      "execution_count": 40,
      "outputs": []
    },
    {
      "cell_type": "code",
      "source": [
        "f = open(\"data.json\", \"w\")\n",
        "f.write(json.dumps(jsonData))\n",
        "f.close()"
      ],
      "metadata": {
        "id": "Zj6tebEMbk5g"
      },
      "execution_count": 55,
      "outputs": []
    },
    {
      "cell_type": "code",
      "source": [
        "f = open(\"data.json\", \"r\")\n",
        "jsonDataReaded = f.read()"
      ],
      "metadata": {
        "id": "INhFzBvBbxa8"
      },
      "execution_count": 56,
      "outputs": []
    },
    {
      "cell_type": "code",
      "source": [
        "jsonDataFormated = json.loads(jsonDataReaded)"
      ],
      "metadata": {
        "id": "i7LcBUCrcA8k"
      },
      "execution_count": 57,
      "outputs": []
    },
    {
      "cell_type": "code",
      "source": [
        "jsonDataFormated"
      ],
      "metadata": {
        "id": "-gAkLUYrcGJY"
      },
      "execution_count": null,
      "outputs": []
    },
    {
      "cell_type": "code",
      "source": [
        "import pandas as pd"
      ],
      "metadata": {
        "id": "AOQq9xyQeq0R"
      },
      "execution_count": 60,
      "outputs": []
    },
    {
      "cell_type": "code",
      "source": [
        "df = pd.DataFrame(jsonDataFormated)"
      ],
      "metadata": {
        "id": "KpQoW2IacG6N"
      },
      "execution_count": 61,
      "outputs": []
    },
    {
      "cell_type": "code",
      "source": [
        "df.head(10)"
      ],
      "metadata": {
        "colab": {
          "base_uri": "https://localhost:8080/",
          "height": 363
        },
        "id": "_tEtZP4GepeE",
        "outputId": "e9c7d16a-b01e-4ff1-e43c-ca4886825d9f"
      },
      "execution_count": 63,
      "outputs": [
        {
          "output_type": "execute_result",
          "data": {
            "text/plain": [
              "                                              0                   1  \\\n",
              "0                                                        Quý 2-2022   \n",
              "1                                    I. TÀI SẢN                       \n",
              "2                                                                     \n",
              "3                                          None                None   \n",
              "4  1. Tiền mặt và các khoản tương đương tại quỹ  15,097,807,000,000   \n",
              "5                                                                     \n",
              "6                                          None                None   \n",
              "7                          2. Tiền gửi tại NHNN  28,813,961,000,000   \n",
              "8                                                                     \n",
              "9                                          None                None   \n",
              "\n",
              "                    2                   3                    4  \n",
              "0          Quý 3-2022          Quý 4-2022           Quý 1-2023  \n",
              "1                                                               \n",
              "2                                                               \n",
              "3                None                None                 None  \n",
              "4  16,293,080,000,000  18,348,519,000,000   15,537,950,000,000  \n",
              "5                                                               \n",
              "6                None                None                 None  \n",
              "7  16,293,080,000,000  92,557,809,000,000  139,256,635,000,000  \n",
              "8                                                               \n",
              "9                None                None                 None  "
            ],
            "text/html": [
              "\n",
              "  <div id=\"df-4ce33086-ec1e-4e1f-846c-69ea52bf4012\">\n",
              "    <div class=\"colab-df-container\">\n",
              "      <div>\n",
              "<style scoped>\n",
              "    .dataframe tbody tr th:only-of-type {\n",
              "        vertical-align: middle;\n",
              "    }\n",
              "\n",
              "    .dataframe tbody tr th {\n",
              "        vertical-align: top;\n",
              "    }\n",
              "\n",
              "    .dataframe thead th {\n",
              "        text-align: right;\n",
              "    }\n",
              "</style>\n",
              "<table border=\"1\" class=\"dataframe\">\n",
              "  <thead>\n",
              "    <tr style=\"text-align: right;\">\n",
              "      <th></th>\n",
              "      <th>0</th>\n",
              "      <th>1</th>\n",
              "      <th>2</th>\n",
              "      <th>3</th>\n",
              "      <th>4</th>\n",
              "    </tr>\n",
              "  </thead>\n",
              "  <tbody>\n",
              "    <tr>\n",
              "      <th>0</th>\n",
              "      <td></td>\n",
              "      <td>Quý 2-2022</td>\n",
              "      <td>Quý 3-2022</td>\n",
              "      <td>Quý 4-2022</td>\n",
              "      <td>Quý 1-2023</td>\n",
              "    </tr>\n",
              "    <tr>\n",
              "      <th>1</th>\n",
              "      <td>I. TÀI SẢN</td>\n",
              "      <td></td>\n",
              "      <td></td>\n",
              "      <td></td>\n",
              "      <td></td>\n",
              "    </tr>\n",
              "    <tr>\n",
              "      <th>2</th>\n",
              "      <td></td>\n",
              "      <td></td>\n",
              "      <td></td>\n",
              "      <td></td>\n",
              "      <td></td>\n",
              "    </tr>\n",
              "    <tr>\n",
              "      <th>3</th>\n",
              "      <td>None</td>\n",
              "      <td>None</td>\n",
              "      <td>None</td>\n",
              "      <td>None</td>\n",
              "      <td>None</td>\n",
              "    </tr>\n",
              "    <tr>\n",
              "      <th>4</th>\n",
              "      <td>1. Tiền mặt và các khoản tương đương tại quỹ</td>\n",
              "      <td>15,097,807,000,000</td>\n",
              "      <td>16,293,080,000,000</td>\n",
              "      <td>18,348,519,000,000</td>\n",
              "      <td>15,537,950,000,000</td>\n",
              "    </tr>\n",
              "    <tr>\n",
              "      <th>5</th>\n",
              "      <td></td>\n",
              "      <td></td>\n",
              "      <td></td>\n",
              "      <td></td>\n",
              "      <td></td>\n",
              "    </tr>\n",
              "    <tr>\n",
              "      <th>6</th>\n",
              "      <td>None</td>\n",
              "      <td>None</td>\n",
              "      <td>None</td>\n",
              "      <td>None</td>\n",
              "      <td>None</td>\n",
              "    </tr>\n",
              "    <tr>\n",
              "      <th>7</th>\n",
              "      <td>2. Tiền gửi tại NHNN</td>\n",
              "      <td>28,813,961,000,000</td>\n",
              "      <td>16,293,080,000,000</td>\n",
              "      <td>92,557,809,000,000</td>\n",
              "      <td>139,256,635,000,000</td>\n",
              "    </tr>\n",
              "    <tr>\n",
              "      <th>8</th>\n",
              "      <td></td>\n",
              "      <td></td>\n",
              "      <td></td>\n",
              "      <td></td>\n",
              "      <td></td>\n",
              "    </tr>\n",
              "    <tr>\n",
              "      <th>9</th>\n",
              "      <td>None</td>\n",
              "      <td>None</td>\n",
              "      <td>None</td>\n",
              "      <td>None</td>\n",
              "      <td>None</td>\n",
              "    </tr>\n",
              "  </tbody>\n",
              "</table>\n",
              "</div>\n",
              "      <button class=\"colab-df-convert\" onclick=\"convertToInteractive('df-4ce33086-ec1e-4e1f-846c-69ea52bf4012')\"\n",
              "              title=\"Convert this dataframe to an interactive table.\"\n",
              "              style=\"display:none;\">\n",
              "        \n",
              "  <svg xmlns=\"http://www.w3.org/2000/svg\" height=\"24px\"viewBox=\"0 0 24 24\"\n",
              "       width=\"24px\">\n",
              "    <path d=\"M0 0h24v24H0V0z\" fill=\"none\"/>\n",
              "    <path d=\"M18.56 5.44l.94 2.06.94-2.06 2.06-.94-2.06-.94-.94-2.06-.94 2.06-2.06.94zm-11 1L8.5 8.5l.94-2.06 2.06-.94-2.06-.94L8.5 2.5l-.94 2.06-2.06.94zm10 10l.94 2.06.94-2.06 2.06-.94-2.06-.94-.94-2.06-.94 2.06-2.06.94z\"/><path d=\"M17.41 7.96l-1.37-1.37c-.4-.4-.92-.59-1.43-.59-.52 0-1.04.2-1.43.59L10.3 9.45l-7.72 7.72c-.78.78-.78 2.05 0 2.83L4 21.41c.39.39.9.59 1.41.59.51 0 1.02-.2 1.41-.59l7.78-7.78 2.81-2.81c.8-.78.8-2.07 0-2.86zM5.41 20L4 18.59l7.72-7.72 1.47 1.35L5.41 20z\"/>\n",
              "  </svg>\n",
              "      </button>\n",
              "      \n",
              "  <style>\n",
              "    .colab-df-container {\n",
              "      display:flex;\n",
              "      flex-wrap:wrap;\n",
              "      gap: 12px;\n",
              "    }\n",
              "\n",
              "    .colab-df-convert {\n",
              "      background-color: #E8F0FE;\n",
              "      border: none;\n",
              "      border-radius: 50%;\n",
              "      cursor: pointer;\n",
              "      display: none;\n",
              "      fill: #1967D2;\n",
              "      height: 32px;\n",
              "      padding: 0 0 0 0;\n",
              "      width: 32px;\n",
              "    }\n",
              "\n",
              "    .colab-df-convert:hover {\n",
              "      background-color: #E2EBFA;\n",
              "      box-shadow: 0px 1px 2px rgba(60, 64, 67, 0.3), 0px 1px 3px 1px rgba(60, 64, 67, 0.15);\n",
              "      fill: #174EA6;\n",
              "    }\n",
              "\n",
              "    [theme=dark] .colab-df-convert {\n",
              "      background-color: #3B4455;\n",
              "      fill: #D2E3FC;\n",
              "    }\n",
              "\n",
              "    [theme=dark] .colab-df-convert:hover {\n",
              "      background-color: #434B5C;\n",
              "      box-shadow: 0px 1px 3px 1px rgba(0, 0, 0, 0.15);\n",
              "      filter: drop-shadow(0px 1px 2px rgba(0, 0, 0, 0.3));\n",
              "      fill: #FFFFFF;\n",
              "    }\n",
              "  </style>\n",
              "\n",
              "      <script>\n",
              "        const buttonEl =\n",
              "          document.querySelector('#df-4ce33086-ec1e-4e1f-846c-69ea52bf4012 button.colab-df-convert');\n",
              "        buttonEl.style.display =\n",
              "          google.colab.kernel.accessAllowed ? 'block' : 'none';\n",
              "\n",
              "        async function convertToInteractive(key) {\n",
              "          const element = document.querySelector('#df-4ce33086-ec1e-4e1f-846c-69ea52bf4012');\n",
              "          const dataTable =\n",
              "            await google.colab.kernel.invokeFunction('convertToInteractive',\n",
              "                                                     [key], {});\n",
              "          if (!dataTable) return;\n",
              "\n",
              "          const docLinkHtml = 'Like what you see? Visit the ' +\n",
              "            '<a target=\"_blank\" href=https://colab.research.google.com/notebooks/data_table.ipynb>data table notebook</a>'\n",
              "            + ' to learn more about interactive tables.';\n",
              "          element.innerHTML = '';\n",
              "          dataTable['output_type'] = 'display_data';\n",
              "          await google.colab.output.renderOutput(dataTable, element);\n",
              "          const docLink = document.createElement('div');\n",
              "          docLink.innerHTML = docLinkHtml;\n",
              "          element.appendChild(docLink);\n",
              "        }\n",
              "      </script>\n",
              "    </div>\n",
              "  </div>\n",
              "  "
            ]
          },
          "metadata": {},
          "execution_count": 63
        }
      ]
    },
    {
      "cell_type": "code",
      "source": [],
      "metadata": {
        "id": "3wVbLzvIfUF-"
      },
      "execution_count": null,
      "outputs": []
    },
    {
      "cell_type": "code",
      "source": [],
      "metadata": {
        "id": "hP-hZvyYeuK0"
      },
      "execution_count": null,
      "outputs": []
    }
  ]
}